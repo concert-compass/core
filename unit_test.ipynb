{
 "cells": [
  {
   "cell_type": "code",
   "execution_count": 1,
   "metadata": {},
   "outputs": [],
   "source": [
    "from ml import ml\n",
    "import numpy as np"
   ]
  },
  {
   "cell_type": "code",
   "execution_count": 2,
   "metadata": {},
   "outputs": [],
   "source": [
    "def test_1():\n",
    "    rec_out = ml(\"spotify:playlist:37i9dQZF1EQnqst5TRi17F\")\n",
    "    rec_dict = {}\n",
    "    for key, value in rec_out.items():\n",
    "        temp = np.array(value)\n",
    "        for i in temp:\n",
    "            rec_dict[i[0]] = i[1]\n",
    "    # rec_dict = sorted(rec_dict.items(), key=lambda x: x[1], reverse=True)\n",
    "    print(rec_dict)\n",
    "    for i in rec_dict:\n",
    "        # Pusha T is a Hip-Hop artist and we gave a Hip-Hop playlist as input\n",
    "        if i == \"Pusha T\":\n",
    "            print(i, rec_dict[i])\n",
    "            break\n",
    "    else:\n",
    "        print(\"Not found\")\n",
    "    pass"
   ]
  },
  {
   "cell_type": "code",
   "execution_count": 3,
   "metadata": {},
   "outputs": [
    {
     "name": "stdout",
     "output_type": "stream",
     "text": [
      "{'SG Lewis': 0.8376515432553949, 'Latto': 0.7227525698381615, 'Shenseea': 0.6607180311377303, 'Burna Boy': 0.7345910275488237, 'Lava La Rue': 0.7747647379906364, 'Pusha T': 0.7624745788412669, 'A Boogie Wit Da Hoodie': 0.7517666007728944, 'DPR LIVE + DPR IAN': 0.8052292887875151, 'boygenius': 0.7525634137534614, 'The Breeders': 0.73316324378108, 'Ali Sethi': 0.7022965180128542, 'El Michels Affair': 0.5702447475384469, 'Becky G': 0.5506596673728249, 'Metro Boomin': 0.6983408600120127, 'Bakar': 0.6933020880234064, 'Elyanna': 0.6821431521084763, 'Noname': 0.9203619021695916, 'Jai Paul': 0.8448636803500047, 'Saba': 0.8106180029380652, 'Despacio': 0.7673096088538193, 'AG Club': 0.6967503982444674, 'Kenny Beats': 0.7693971406203463, 'IDK': 0.7385605325215805, 'Rae Sremmurd': 0.8769019601022614, 'GloRilla': 0.7902746153139257, 'Doechii': 0.7217160996116057, 'Kaytranada': 0.8148439536721485, '$uicideboy$': 0.7372240580919284}\n",
      "Pusha T 0.7624745788412669\n"
     ]
    }
   ],
   "source": [
    "test_1()"
   ]
  },
  {
   "cell_type": "code",
   "execution_count": 4,
   "metadata": {},
   "outputs": [],
   "source": [
    "def test_2():\n",
    "    rec_out = ml(\"spotify:playlist:37i9dQZF1EQnqst5TRi17F\")\n",
    "    rec_dict = {}\n",
    "    for key, value in rec_out.items():\n",
    "        temp = np.array(value)\n",
    "        for i in temp:\n",
    "            rec_dict[i[0]] = i[1]\n",
    "    # rec_dict = sorted(rec_dict.items(), key=lambda x: x[1], reverse=True)\n",
    "    print(rec_dict)\n",
    "    for i in rec_dict:\n",
    "        # $uicideboy$ is a Hip-Hop artist and we gave a Hip-Hop playlist as input\n",
    "        if i == \"$uicideboy$\":\n",
    "            print(i, rec_dict[i])\n",
    "            break\n",
    "    else:\n",
    "        print(\"$uicideboy$ not found\")\n",
    "    pass"
   ]
  },
  {
   "cell_type": "code",
   "execution_count": 5,
   "metadata": {},
   "outputs": [
    {
     "name": "stdout",
     "output_type": "stream",
     "text": [
      "{'SG Lewis': 0.8376515432553949, 'Latto': 0.7227525698381615, 'Shenseea': 0.6607180311377303, 'Burna Boy': 0.7345910275488237, 'Lava La Rue': 0.7747647379906364, 'Pusha T': 0.7624745788412669, 'A Boogie Wit Da Hoodie': 0.7517666007728944, 'DPR LIVE + DPR IAN': 0.8052292887875151, 'boygenius': 0.7525634137534614, 'The Breeders': 0.73316324378108, 'Ali Sethi': 0.7022965180128542, 'El Michels Affair': 0.5702447475384469, 'Becky G': 0.5506596673728249, 'Metro Boomin': 0.6983408600120127, 'Bakar': 0.6933020880234064, 'Elyanna': 0.6821431521084763, 'Noname': 0.9203619021695916, 'Jai Paul': 0.8448636803500047, 'Saba': 0.8106180029380652, 'Despacio': 0.7673096088538193, 'AG Club': 0.6967503982444674, 'Kenny Beats': 0.7693971406203463, 'IDK': 0.7385605325215805, 'Rae Sremmurd': 0.8769019601022614, 'GloRilla': 0.7902746153139257, 'Doechii': 0.7217160996116057, 'Kaytranada': 0.8148439536721485, '$uicideboy$': 0.7372240580919284}\n",
      "$uicideboy$ 0.7372240580919284\n"
     ]
    }
   ],
   "source": [
    "test_2()"
   ]
  },
  {
   "cell_type": "code",
   "execution_count": 6,
   "metadata": {},
   "outputs": [],
   "source": [
    "def test_3():\n",
    "    rec_out = ml(\"spotify:playlist:37i9dQZF1EQnqst5TRi17F\")\n",
    "    rec_dict = {}\n",
    "    for key, value in rec_out.items():\n",
    "        temp = np.array(value)\n",
    "        for i in temp:\n",
    "            rec_dict[i[0]] = i[1]\n",
    "    # rec_dict = sorted(rec_dict.items(), key=lambda x: x[1], reverse=True)\n",
    "    print(rec_dict)\n",
    "    for i in rec_dict:\n",
    "        # Saba is a Hip-Hop artist and we gave a Hip-Hop playlist as input\n",
    "        if i == \"Saba\":\n",
    "            print(i, rec_dict[i])\n",
    "            break\n",
    "    else:\n",
    "        print(\"Not found\")\n",
    "    pass"
   ]
  },
  {
   "cell_type": "code",
   "execution_count": 7,
   "metadata": {},
   "outputs": [
    {
     "name": "stdout",
     "output_type": "stream",
     "text": [
      "{'SG Lewis': 0.8376515432553949, 'Latto': 0.7227525698381615, 'Shenseea': 0.6607180311377303, 'Burna Boy': 0.7345910275488237, 'Lava La Rue': 0.7747647379906364, 'Pusha T': 0.7624745788412669, 'A Boogie Wit Da Hoodie': 0.7517666007728944, 'DPR LIVE + DPR IAN': 0.8052292887875151, 'boygenius': 0.7525634137534614, 'The Breeders': 0.73316324378108, 'Ali Sethi': 0.7022965180128542, 'El Michels Affair': 0.5702447475384469, 'Becky G': 0.5506596673728249, 'Metro Boomin': 0.6983408600120127, 'Bakar': 0.6933020880234064, 'Elyanna': 0.6821431521084763, 'Noname': 0.9203619021695916, 'Jai Paul': 0.8448636803500047, 'Saba': 0.8106180029380652, 'Despacio': 0.7673096088538193, 'AG Club': 0.6967503982444674, 'Kenny Beats': 0.7693971406203463, 'IDK': 0.7385605325215805, 'Rae Sremmurd': 0.8769019601022614, 'GloRilla': 0.7902746153139257, 'Doechii': 0.7217160996116057, 'Kaytranada': 0.8148439536721485, '$uicideboy$': 0.7372240580919284}\n",
      "Saba 0.8106180029380652\n"
     ]
    }
   ],
   "source": [
    "test_3()"
   ]
  }
 ],
 "metadata": {
  "kernelspec": {
   "display_name": "base",
   "language": "python",
   "name": "python3"
  },
  "language_info": {
   "codemirror_mode": {
    "name": "ipython",
    "version": 3
   },
   "file_extension": ".py",
   "mimetype": "text/x-python",
   "name": "python",
   "nbconvert_exporter": "python",
   "pygments_lexer": "ipython3",
   "version": "3.10.9"
  },
  "orig_nbformat": 4
 },
 "nbformat": 4,
 "nbformat_minor": 2
}
